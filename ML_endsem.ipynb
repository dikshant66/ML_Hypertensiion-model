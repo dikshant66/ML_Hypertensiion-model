{
 "cells": [
  {
   "cell_type": "code",
   "execution_count": 1,
   "id": "68193c5f",
   "metadata": {
    "scrolled": true
   },
   "outputs": [
    {
     "name": "stdout",
     "output_type": "stream",
     "text": [
      "     White Blood Cell Count (WBC)  Red Blood Cell Count (RBC)  \\\n",
      "0                            8.66                        4.65   \n",
      "1                            6.24                        4.21   \n",
      "2                            9.66                        3.29   \n",
      "3                            5.29                        3.57   \n",
      "4                            7.65                        2.65   \n",
      "..                            ...                         ...   \n",
      "995                          8.04                        5.87   \n",
      "996                          8.13                        4.56   \n",
      "997                          4.60                        1.56   \n",
      "998                          2.40                        5.32   \n",
      "999                         13.86                        3.81   \n",
      "\n",
      "     Hemoglobin(HGB)  Hematocrit (HCT)  Mean Corpuscular Volume (MCV)  \\\n",
      "0               11.2              40.2                           85.6   \n",
      "1                8.5              35.6                           84.0   \n",
      "2               11.4              34.2                           87.6   \n",
      "3                7.8              39.4                           88.4   \n",
      "4                7.2              28.0                           84.4   \n",
      "..               ...               ...                            ...   \n",
      "995             12.6              33.9                           87.5   \n",
      "996             11.1              44.2                           71.5   \n",
      "997              9.8              43.7                           81.0   \n",
      "998             10.1              39.7                           86.0   \n",
      "999             10.6              33.1                           86.8   \n",
      "\n",
      "     Mean Corpuscular Hemoglobin Concentration (MCHC)  Platelet Count (PLT)  \\\n",
      "0                                               37.00                   381   \n",
      "1                                               38.36                   298   \n",
      "2                                               34.10                   297   \n",
      "3                                               31.10                   378   \n",
      "4                                               35.00                   255   \n",
      "..                                                ...                   ...   \n",
      "995                                             33.60                    94   \n",
      "996                                             32.70                   276   \n",
      "997                                             34.60                   294   \n",
      "998                                             30.80                   131   \n",
      "999                                             32.20                   446   \n",
      "\n",
      "     Disease  \n",
      "0          0  \n",
      "1          0  \n",
      "2          0  \n",
      "3          0  \n",
      "4          0  \n",
      "..       ...  \n",
      "995        0  \n",
      "996        0  \n",
      "997        0  \n",
      "998        0  \n",
      "999        0  \n",
      "\n",
      "[1000 rows x 8 columns]\n"
     ]
    }
   ],
   "source": [
    "import pandas as pd \n",
    "dataset = r'C:\\Users\\HP\\Desktop\\final_hypertension.csv'\n",
    "df=pd.read_csv(dataset)\n",
    "print(df)"
   ]
  },
  {
   "cell_type": "code",
   "execution_count": 2,
   "id": "39f64749",
   "metadata": {},
   "outputs": [
    {
     "name": "stdout",
     "output_type": "stream",
     "text": [
      "<class 'pandas.core.frame.DataFrame'>\n",
      "RangeIndex: 1000 entries, 0 to 999\n",
      "Data columns (total 8 columns):\n",
      " #   Column                                            Non-Null Count  Dtype  \n",
      "---  ------                                            --------------  -----  \n",
      " 0   White Blood Cell Count (WBC)                      1000 non-null   float64\n",
      " 1   Red Blood Cell Count (RBC)                        1000 non-null   float64\n",
      " 2   Hemoglobin(HGB)                                   1000 non-null   float64\n",
      " 3   Hematocrit (HCT)                                  1000 non-null   float64\n",
      " 4   Mean Corpuscular Volume (MCV)                     1000 non-null   float64\n",
      " 5   Mean Corpuscular Hemoglobin Concentration (MCHC)  1000 non-null   float64\n",
      " 6   Platelet Count (PLT)                              1000 non-null   int64  \n",
      " 7   Disease                                           1000 non-null   int64  \n",
      "dtypes: float64(6), int64(2)\n",
      "memory usage: 62.6 KB\n"
     ]
    }
   ],
   "source": [
    "df.shape\n",
    "df.info()"
   ]
  },
  {
   "cell_type": "code",
   "execution_count": 4,
   "id": "132d627b",
   "metadata": {},
   "outputs": [
    {
     "name": "stdout",
     "output_type": "stream",
     "text": [
      "     White Blood Cell Count (WBC)  Red Blood Cell Count (RBC)  \\\n",
      "0                            8.66                        4.65   \n",
      "1                            6.24                        4.21   \n",
      "2                            9.66                        3.29   \n",
      "3                            5.29                        3.57   \n",
      "4                            7.65                        2.65   \n",
      "..                            ...                         ...   \n",
      "995                          8.04                        5.87   \n",
      "996                          8.13                        4.56   \n",
      "997                          4.60                        1.56   \n",
      "998                          2.40                        5.32   \n",
      "999                         13.86                        3.81   \n",
      "\n",
      "     Hemoglobin(HGB)  Hematocrit (HCT)  Mean Corpuscular Volume (MCV)  \\\n",
      "0               11.2              40.2                           85.6   \n",
      "1                8.5              35.6                           84.0   \n",
      "2               11.4              34.2                           87.6   \n",
      "3                7.8              39.4                           88.4   \n",
      "4                7.2              28.0                           84.4   \n",
      "..               ...               ...                            ...   \n",
      "995             12.6              33.9                           87.5   \n",
      "996             11.1              44.2                           71.5   \n",
      "997              9.8              43.7                           81.0   \n",
      "998             10.1              39.7                           86.0   \n",
      "999             10.6              33.1                           86.8   \n",
      "\n",
      "     Mean Corpuscular Hemoglobin Concentration (MCHC)  Platelet Count (PLT)  \n",
      "0                                               37.00                   381  \n",
      "1                                               38.36                   298  \n",
      "2                                               34.10                   297  \n",
      "3                                               31.10                   378  \n",
      "4                                               35.00                   255  \n",
      "..                                                ...                   ...  \n",
      "995                                             33.60                    94  \n",
      "996                                             32.70                   276  \n",
      "997                                             34.60                   294  \n",
      "998                                             30.80                   131  \n",
      "999                                             32.20                   446  \n",
      "\n",
      "[1000 rows x 7 columns]\n"
     ]
    }
   ],
   "source": [
    "import numpy as np\n",
    "import pandas as pd\n",
    "from sklearn.model_selection import train_test_split\n",
    "from sklearn.preprocessing import StandardScaler\n",
    "from sklearn.neighbors import KNeighborsClassifier\n",
    "from sklearn.metrics import classification_report, confusion_matrix\n",
    "\n",
    "\n",
    "# Assuming the first 7 columns are features and the last one is the output (disease)\n",
    "X = df.iloc[:, :7]  # Features\n",
    "Y = df.iloc[:, 7]   # Output\n",
    "\n",
    "# Split the data into training and testing sets (80% training, 20% testing)\n",
    "print(X)"
   ]
  },
  {
   "cell_type": "code",
   "execution_count": 5,
   "id": "df0a7527",
   "metadata": {},
   "outputs": [
    {
     "name": "stdout",
     "output_type": "stream",
     "text": [
      "0      0\n",
      "1      0\n",
      "2      0\n",
      "3      0\n",
      "4      0\n",
      "      ..\n",
      "995    0\n",
      "996    0\n",
      "997    0\n",
      "998    0\n",
      "999    0\n",
      "Name: Disease, Length: 1000, dtype: int64\n"
     ]
    }
   ],
   "source": [
    "print(Y)\n",
    "\n",
    "\n",
    "# Save the trained model\n",
    "\n"
   ]
  },
  {
   "cell_type": "code",
   "execution_count": 22,
   "id": "6315dcc9",
   "metadata": {},
   "outputs": [
    {
     "name": "stdout",
     "output_type": "stream",
     "text": [
      "Accuracy: 0.99\n",
      "Confusion Matrix:\n",
      "[[ 96   0]\n",
      " [  2 102]]\n",
      "\n",
      "Classification Report:\n",
      "              precision    recall  f1-score   support\n",
      "\n",
      "           0       0.98      1.00      0.99        96\n",
      "           1       1.00      0.98      0.99       104\n",
      "\n",
      "    accuracy                           0.99       200\n",
      "   macro avg       0.99      0.99      0.99       200\n",
      "weighted avg       0.99      0.99      0.99       200\n",
      "\n"
     ]
    }
   ],
   "source": [
    "X_train, X_test, Y_train, Y_test = train_test_split(X, Y, test_size=0.2, random_state= 5)\n",
    "\n",
    "# Feature scaling - important for KNN\n",
    "scaler = StandardScaler()\n",
    "X_train = scaler.fit_transform(X_train)\n",
    "X_test = scaler.transform(X_test)\n",
    "\n",
    "# Define the model and its parameters\n",
    "k = 5  # Number of neighbors\n",
    "weights = 'distance'  # Weight points by the inverse of their distance\n",
    "algorithm = 'auto'  # Algorithm used to compute the nearest neighbors (auto selects the best one)\n",
    "\n",
    "# Initialize the model\n",
    "model = KNeighborsClassifier(n_neighbors=k, weights=weights, algorithm=algorithm)\n",
    "\n",
    "# Train the model\n",
    "model.fit(X_train, Y_train)\n",
    "\n",
    "# Predict the output for the test set\n",
    "Y_pred = model.predict(X_test)\n",
    "\n",
    "from sklearn.metrics import accuracy_score\n",
    "\n",
    "# Calculate accuracy\n",
    "accuracy = accuracy_score(Y_test, Y_pred)\n",
    "print(\"Accuracy:\", accuracy)\n",
    "\n",
    "\n",
    "# Print confusion matrix and classification report\n",
    "print(\"Confusion Matrix:\")\n",
    "print(confusion_matrix(Y_test, Y_pred))\n",
    "print(\"\\nClassification Report:\")\n",
    "print(classification_report(Y_test, Y_pred))"
   ]
  },
  {
   "cell_type": "code",
   "execution_count": 23,
   "id": "79864a41",
   "metadata": {},
   "outputs": [
    {
     "data": {
      "image/png": "[encoded data removed]",
      "text/plain": [
       "<Figure size 576x432 with 1 Axes>"
      ]
     },
     "metadata": {
      "needs_background": "light"
     },
     "output_type": "display_data"
    }
   ],
   "source": [
    "import matplotlib.pyplot as plt\n",
    "import seaborn as sns\n",
    "joblib.dump(model, 'knn_model.pkl')\n",
    "# Calculate confusion matrix\n",
    "conf_matrix = confusion_matrix(Y_test, Y_pred)\n",
    "\n",
    "# Plot confusion matrix as an image\n",
    "plt.figure(figsize=(8, 6))\n",
    "sns.heatmap(conf_matrix, annot=True, fmt='d', cmap='Blues', cbar=False)\n",
    "plt.title('Confusion Matrix')\n",
    "plt.xlabel('Predicted')\n",
    "plt.ylabel('True')\n",
    "plt.show()\n"
   ]
  },
  {
   "cell_type": "code",
   "execution_count": 24,
   "id": "87111378",
   "metadata": {},
   "outputs": [],
   "source": [
    "import tkinter as tk\n",
    "from tkinter import messagebox\n",
    "import numpy as np\n",
    "from sklearn.preprocessing import StandardScaler\n",
    "from sklearn.neighbors import KNeighborsClassifier\n",
    "import joblib\n",
    "# Load the trained model\n",
    "def load_model():\n",
    "    # Assuming you already have a trained weighted KNN model saved as 'knn_model.pkl'\n",
    "    # Load the model using joblib or pickle\n",
    "    # Example:\n",
    "    model = joblib.load('knn_model.pkl')\n",
    "    return model\n",
    "    pass\n",
    "\n",
    "# Function to preprocess input data\n",
    "def preprocess_data(data):\n",
    "    scaler = StandardScaler()\n",
    "    data_scaled = scaler.fit_transform([data])\n",
    "    return data_scaled\n",
    "\n",
    "# Function to predict disease\n",
    "def predict_disease(data):\n",
    "    model = load_model()\n",
    "    if model:\n",
    "        preprocessed_data = preprocess_data(data)\n",
    "        prediction = model.predict(preprocessed_data)\n",
    "        return prediction[0]\n",
    "    else:\n",
    "        messagebox.showerror(\"Error\", \"Model loading failed!\")\n",
    "        return None\n",
    "\n",
    "# Function to handle predict button click\n",
    "def on_predict():\n",
    "    try:\n",
    "        parameters = [float(entry.get()) for entry in entries]\n",
    "        prediction = predict_disease(parameters)\n",
    "        if prediction is not None:\n",
    "            if prediction == 1:\n",
    "            \n",
    "                messagebox.showinfo(\"Prediction\", \"High likelihood of hypertension disease.\")\n",
    "            else:\n",
    "                messagebox.showinfo(\"Prediction\", \"Low likelihood of hypertension disease.\")\n",
    "    except ValueError:\n",
    "        messagebox.showerror(\"Error\", \"Please enter valid numerical values for all parameters.\")\n",
    "\n",
    "# Create main window\n",
    "root = tk.Tk()\n",
    "root.title(\"Hypertension Disease Prediction\")\n",
    "\n",
    "# Create entry fields for parameters\n",
    "parameters = [\"Parameter 1\", \"Parameter 2\", \"Parameter 3\", \"Parameter 4\", \"Parameter 5\", \"Parameter 6\", \"Parameter 7\"]\n",
    "entries = []\n",
    "for i, param in enumerate(parameters):\n",
    "    tk.Label(root, text=param).grid(row=i, column=0, padx=5, pady=5)\n",
    "    entry = tk.Entry(root)\n",
    "    entry.grid(row=i, column=1, padx=5, pady=5)\n",
    "    entries.append(entry)\n",
    "\n",
    "# Create predict button\n",
    "predict_button = tk.Button(root, text=\"Predict\", command=on_predict)\n",
    "predict_button.grid(row=len(parameters), columnspan=2, padx=5, pady=10)\n",
    "\n",
    "# Run the main event loop\n",
    "root.mainloop()\n"
   ]
  },
  {
   "cell_type": "code",
   "execution_count": null,
   "id": "5b0bb542",
   "metadata": {},
   "outputs": [],
   "source": []
  }
 ],
 "metadata": {
  "kernelspec": {
   "display_name": "Python 3",
   "language": "python",
   "name": "python3"
  },
  "language_info": {
   "codemirror_mode": {
    "name": "ipython",
    "version": 3
   },
   "file_extension": ".py",
   "mimetype": "text/x-python",
   "name": "python",
   "nbconvert_exporter": "python",
   "pygments_lexer": "ipython3",
   "version": "3.8.8"
  }
 },
 "nbformat": 4,
 "nbformat_minor": 5
}
